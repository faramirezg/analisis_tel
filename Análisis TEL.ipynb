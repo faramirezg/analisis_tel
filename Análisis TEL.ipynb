{
 "cells": [
  {
   "cell_type": "code",
   "execution_count": 7,
   "id": "4a7c5ea1",
   "metadata": {},
   "outputs": [
    {
     "name": "stdout",
     "output_type": "stream",
     "text": [
      "Requirement already satisfied: pandas in c:\\users\\fabian.ramirez\\appdata\\local\\anaconda3\\lib\\site-packages (1.5.3)\n",
      "Requirement already satisfied: python-dateutil>=2.8.1 in c:\\users\\fabian.ramirez\\appdata\\local\\anaconda3\\lib\\site-packages (from pandas) (2.8.2)\n",
      "Requirement already satisfied: pytz>=2020.1 in c:\\users\\fabian.ramirez\\appdata\\local\\anaconda3\\lib\\site-packages (from pandas) (2022.7)\n",
      "Requirement already satisfied: numpy>=1.21.0 in c:\\users\\fabian.ramirez\\appdata\\local\\anaconda3\\lib\\site-packages (from pandas) (1.24.3)\n",
      "Requirement already satisfied: six>=1.5 in c:\\users\\fabian.ramirez\\appdata\\local\\anaconda3\\lib\\site-packages (from python-dateutil>=2.8.1->pandas) (1.16.0)\n"
     ]
    }
   ],
   "source": [
    "!pip install pandas"
   ]
  },
  {
   "cell_type": "code",
   "execution_count": 5,
   "id": "e463a769",
   "metadata": {},
   "outputs": [],
   "source": [
    "import pandas as pd"
   ]
  },
  {
   "cell_type": "code",
   "execution_count": 6,
   "id": "466c7ab4",
   "metadata": {},
   "outputs": [],
   "source": [
    "mat2022 = pd.read_stata(\"G:\\Mi unidad\\BBDD\\CEM\\Matricula escolar oficial\\matricula escolar 2022 web.dta\")"
   ]
  },
  {
   "cell_type": "code",
   "execution_count": 20,
   "id": "3b888c80",
   "metadata": {},
   "outputs": [],
   "source": [
    "#mat2022[\"cod_ense\"].value_counts()"
   ]
  },
  {
   "cell_type": "code",
   "execution_count": 31,
   "id": "000d315b",
   "metadata": {},
   "outputs": [],
   "source": [
    "mat2022 = mat2022.drop(mat2022[mat2022[\"cod_ense\"]==10].index)"
   ]
  },
  {
   "cell_type": "code",
   "execution_count": 32,
   "id": "ab7e6e76",
   "metadata": {},
   "outputs": [
    {
     "data": {
      "text/plain": [
       "10     352683\n",
       "214    136035\n",
       "510    100452\n",
       "363     91986\n",
       "410     65469\n",
       "610     54770\n",
       "212     34629\n",
       "710     16765\n",
       "165     12001\n",
       "810      3763\n",
       "563      3296\n",
       "167      3064\n",
       "663      2349\n",
       "216      2074\n",
       "299      1931\n",
       "217      1626\n",
       "218      1423\n",
       "463      1201\n",
       "910       444\n",
       "763       383\n",
       "215       349\n",
       "213       349\n",
       "211       321\n",
       "863        13\n",
       "219         7\n",
       "Name: cod_ense, dtype: int64"
      ]
     },
     "execution_count": 32,
     "metadata": {},
     "output_type": "execute_result"
    }
   ],
   "source": [
    "mat2022[\"cod_ense\"].value_counts()"
   ]
  },
  {
   "cell_type": "code",
   "execution_count": 33,
   "id": "1cfcb0c3",
   "metadata": {},
   "outputs": [
    {
     "ename": "NameError",
     "evalue": "name 'x' is not defined",
     "output_type": "error",
     "traceback": [
      "\u001b[1;31m---------------------------------------------------------------------------\u001b[0m",
      "\u001b[1;31mNameError\u001b[0m                                 Traceback (most recent call last)",
      "Cell \u001b[1;32mIn[33], line 1\u001b[0m\n\u001b[1;32m----> 1\u001b[0m mat2022[\u001b[38;5;124m\"\u001b[39m\u001b[38;5;124mprueba\u001b[39m\u001b[38;5;124m\"\u001b[39m] \u001b[38;5;241m=\u001b[39m mat2022[[\u001b[38;5;124m\"\u001b[39m\u001b[38;5;124mcod_depe2\u001b[39m\u001b[38;5;124m\"\u001b[39m, \u001b[38;5;124m\"\u001b[39m\u001b[38;5;124mcod_ense\u001b[39m\u001b[38;5;124m\"\u001b[39m]]\u001b[38;5;241m.\u001b[39mapply((x[\u001b[38;5;241m1\u001b[39m]\u001b[38;5;241m-\u001b[39mx[\u001b[38;5;241m0\u001b[39m]), axis\u001b[38;5;241m==\u001b[39m\u001b[38;5;241m1\u001b[39m)\n",
      "\u001b[1;31mNameError\u001b[0m: name 'x' is not defined"
     ]
    }
   ],
   "source": [
    "mat2022[\"prueba\"] = mat2022[[\"cod_depe2\", \"cod_ense\"]].apply((x[1]-x[0]), axis==1)"
   ]
  },
  {
   "cell_type": "code",
   "execution_count": null,
   "id": "045784fc",
   "metadata": {},
   "outputs": [],
   "source": []
  }
 ],
 "metadata": {
  "kernelspec": {
   "display_name": "Python 3 (ipykernel)",
   "language": "python",
   "name": "python3"
  },
  "language_info": {
   "codemirror_mode": {
    "name": "ipython",
    "version": 3
   },
   "file_extension": ".py",
   "mimetype": "text/x-python",
   "name": "python",
   "nbconvert_exporter": "python",
   "pygments_lexer": "ipython3",
   "version": "3.11.3"
  }
 },
 "nbformat": 4,
 "nbformat_minor": 5
}
